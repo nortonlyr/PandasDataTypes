{
 "cells": [
  {
   "cell_type": "code",
   "execution_count": 2,
   "metadata": {},
   "outputs": [
    {
     "name": "stdout",
     "output_type": "stream",
     "text": [
      "   Customer Number     Customer Name      2016       2017  Percent Growth  \\\n",
      "0            10002  Quest Industries  125000.0   162500.0            0.30   \n",
      "1           552278    Smith Plumbing  920000.0  1012000.0            0.10   \n",
      "2            23477   ACME Industrial   50000.0    62500.0            0.25   \n",
      "3            24900        Brekke LTD  350000.0   490000.0            0.04   \n",
      "4           651029         Harbor Co   15000.0    12750.0           -0.15   \n",
      "\n",
      "  Jan Units  Month  Day  Year  Active Start_Date  \n",
      "0       500      1   10  2015    True 2015-01-10  \n",
      "1       700      6   15  2014    True 2014-06-15  \n",
      "2       125      3   29  2016    True 2016-03-29  \n",
      "3        75     10   27  2015    True 2015-10-27  \n",
      "4    Closed      2    2  2014   False 2014-02-02  \n"
     ]
    }
   ],
   "source": [
    "import pandas as pd\n",
    "import numpy as np\n",
    "\n",
    "df = pd.read_csv(\"https://github.com/chris1610/pbpython/blob/master/data/sales_data_types.csv?raw=True\")\n",
    "\n",
    "df[\"Customer Number\"] = df['Customer Number'].astype('int')\n",
    "\n",
    "\n",
    "def convert_currency(val):\n",
    "    \"\"\"\n",
    "    125000.00\n",
    "    Convert the string number value to a float\n",
    "     - Remove $\n",
    "     - Remove commas\n",
    "     - Convert to float type\n",
    "    \"\"\"\n",
    "    new_val = val.replace(',','').replace('$', '')\n",
    "    return float(new_val)\n",
    "\n",
    "\n",
    "def convert_percent(val):\n",
    "    \"\"\"\n",
    "    Convert the percentage string to an actual floating point percent\n",
    "    \"\"\"\n",
    "    new_val = val.replace('%', '')\n",
    "    return float(new_val) / 100\n",
    "\n",
    "\n",
    "df['2016'] = df['2016'].apply(convert_currency)\n",
    "df['2017'] = df['2017'].apply(convert_currency)\n",
    "\n",
    "df['Percent Growth'] = df['Percent Growth'].apply(lambda x: x.replace('%', '')).astype('float') / 100\n",
    "pd.to_numeric(df['Jan Units'], errors='coerce').fillna(0)\n",
    "df[\"Start_Date\"] = pd.to_datetime(df[['Month', 'Day', 'Year']])\n",
    "df[\"Active\"] = np.where(df[\"Active\"] == \"Y\", True, False)\n",
    "\n",
    "print(df)"
   ]
  },
  {
   "cell_type": "code",
   "execution_count": null,
   "metadata": {},
   "outputs": [],
   "source": []
  }
 ],
 "metadata": {
  "kernelspec": {
   "display_name": "Python 3",
   "language": "python",
   "name": "python3"
  },
  "language_info": {
   "codemirror_mode": {
    "name": "ipython",
    "version": 3
   },
   "file_extension": ".py",
   "mimetype": "text/x-python",
   "name": "python",
   "nbconvert_exporter": "python",
   "pygments_lexer": "ipython3",
   "version": "3.7.4"
  }
 },
 "nbformat": 4,
 "nbformat_minor": 2
}
